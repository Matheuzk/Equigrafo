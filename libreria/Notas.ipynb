{
 "cells": [
  {
   "cell_type": "markdown",
   "metadata": {},
   "source": [
    "Correr Aplicacion Web"
   ]
  },
  {
   "cell_type": "code",
   "execution_count": null,
   "metadata": {},
   "outputs": [],
   "source": [
    "\n",
    "# venv\\Scripts\\activate\n",
    "\n",
    "# python manage.py runserver\n",
    "\n",
    "# (en la terminal warp)\n",
    "# ngrok http 8000\n",
    "\n"
   ]
  },
  {
   "cell_type": "markdown",
   "metadata": {
    "vscode": {
     "languageId": "plaintext"
    }
   },
   "source": [
    "llaves para definir roll"
   ]
  },
  {
   "cell_type": "code",
   "execution_count": null,
   "metadata": {},
   "outputs": [],
   "source": [
    " # 10012 : Gerente\n",
    " # 10013 : Asistente\n",
    " # 10014 : Cajero\n",
    "# 10015 : Atención al cliente"
   ]
  },
  {
   "cell_type": "markdown",
   "metadata": {},
   "source": [
    "Actualizar tablas , hacer migracion"
   ]
  },
  {
   "cell_type": "code",
   "execution_count": null,
   "metadata": {},
   "outputs": [],
   "source": [
    " # python manage.py makemigrations\n",
    " # python manage.py migrate"
   ]
  },
  {
   "cell_type": "markdown",
   "metadata": {},
   "source": [
    "Ejecutar todas las pruebas"
   ]
  },
  {
   "cell_type": "code",
   "execution_count": null,
   "metadata": {},
   "outputs": [],
   "source": [
    "# python manage.py test\n",
    "\n",
    "# python manage.py test -v 2\n",
    "\n",
    "# python manage.py test -v 2 --keepdb\n",
    "\n",
    "\n",
    "\n",
    "\n",
    "# python manage.py test libreria.tests.pruebas_unitarias --keepdb\n",
    "# python manage.py test libreria.tests.prueba_funcional --keepdb\n",
    "# python manage.py test libreria.tests.pruebas_unitarias.tests_camaras --keepdb\n"
   ]
  }
 ],
 "metadata": {
  "kernelspec": {
   "display_name": "Python 3",
   "language": "python",
   "name": "python3"
  },
  "language_info": {
   "codemirror_mode": {
    "name": "ipython",
    "version": 3
   },
   "file_extension": ".py",
   "mimetype": "text/x-python",
   "name": "python",
   "nbconvert_exporter": "python",
   "pygments_lexer": "ipython3",
   "version": "3.13.2"
  }
 },
 "nbformat": 4,
 "nbformat_minor": 2
}
